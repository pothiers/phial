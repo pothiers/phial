{
 "cells": [
  {
   "cell_type": "markdown",
   "metadata": {},
   "source": [
    "# Using the Experiment class\n",
    "This is intended to make it easier to create and manage experiments that use the ϕ calculator. An experiment is a network setup (cm,tpm) and calculation of ϕ for all reachable states."
   ]
  },
  {
   "cell_type": "code",
   "execution_count": 1,
   "metadata": {},
   "outputs": [],
   "source": [
    "import phial.experiment as ws\n",
    "import phial.toolbox  as tb\n",
    "import phial.node_functions as nf\n",
    "from phial.experiment import Experiment\n",
    "from phial.utils import tic,toc\n",
    "tic() # start tracking time of Notebook load"
   ]
  },
  {
   "cell_type": "markdown",
   "metadata": {},
   "source": [
    "## Create and run an experiment\n",
    "Results are returned in a dictionary that includes results for every ϕ calculation (state, phi, calc-time) as well as total time for the experiment."
   ]
  },
  {
   "cell_type": "code",
   "execution_count": 4,
   "metadata": {
    "scrolled": false
   },
   "outputs": [
    {
     "name": "stderr",
     "output_type": "stream",
     "text": [
      "                                                         \r"
     ]
    },
    {
     "name": "stdout",
     "output_type": "stream",
     "text": [
      "Saved experiment with results to: /home/pothiers/phial/foo/results_2020-05-14T15:03:42.654439.json\n",
      "CPU times: user 250 ms, sys: 463 ms, total: 713 ms\n",
      "Wall time: 553 ms\n"
     ]
    },
    {
     "data": {
      "text/plain": [
       "{'timestamp': '2020-05-14 15:03:42.102130',\n",
       " 'duration': 0.4587516989558935,\n",
       " 'results': {'010': {'phi': 0.159722, 'elapsed_seconds': 0.09812786895781755},\n",
       "  '111': {'phi': 0.375, 'elapsed_seconds': 0.09148258483037353},\n",
       "  '000': {'phi': 0.125, 'elapsed_seconds': 0.0916353550273925},\n",
       "  '101': {'phi': 0.340278, 'elapsed_seconds': 0.09104206506162882},\n",
       "  '001': {'phi': 0.125, 'elapsed_seconds': 0.08559223497286439}},\n",
       " 'filename': None,\n",
       " 'uname': uname_result(system='Linux', node='chimp20', release='5.3.0-51-generic', version='#44~18.04.2-Ubuntu SMP Thu Apr 23 14:27:18 UTC 2020', machine='x86_64', processor='x86_64')}"
      ]
     },
     "execution_count": 4,
     "metadata": {},
     "output_type": "execute_result"
    },
    {
     "data": {
      "image/png": "[encoded data removed]",
      "text/plain": [
       "<Figure size 1008x288 with 2 Axes>"
      ]
     },
     "metadata": {},
     "output_type": "display_data"
    }
   ],
   "source": [
    "exp = Experiment(\n",
    "    [('A', 'B'), # ('A', 'C'), \n",
    "     ('B', 'A'), ('B', 'C'), \n",
    "     ('C', 'A'), ('C', 'B')],\n",
    "    funcs=dict(A=nf.OR_func, B=nf.AND_func, C=nf.XOR_func),\n",
    "    saveDir='~/phial/foo',\n",
    "    title='3-node mostly bidirectional; OR, XOR, AND',  \n",
    "    comment = 'from pyphi/examples.py',\n",
    ")\n",
    "%time exp.run(plot=True)"
   ]
  },
  {
   "cell_type": "code",
   "execution_count": 3,
   "metadata": {},
   "outputs": [
    {
     "ename": "FileNotFoundError",
     "evalue": "[Errno 2] No such file or directory: '/home/pothiers/phial/foo/results_2020-05-14T15:03:25.482231.json'",
     "output_type": "error",
     "traceback": [
      "---------------------------------------------------------------------------",
      "FileNotFoundError                         Traceback (most recent call last)",
      "<ipython-input-3-5cf1bf0dbffe> in <module>\n----> 1 exp.save()\n",
      "~/sandbox/phial/phial/experiment.py in save(self, filename)\n    133         out = dict(net=self.net.to_json(),\n    134                    results=self.info() )\n--> 135         with open(fname, 'w') as f:\n    136             json.dump(out, indent=2, fp=f)\n    137         print(f'Saved experiment with results to: {fname}')\n",
      "FileNotFoundError: [Errno 2] No such file or directory: '/home/pothiers/phial/foo/results_2020-05-14T15:03:25.482231.json'"
     ]
    }
   ],
   "source": [
    "exp.save()"
   ]
  },
  {
   "cell_type": "markdown",
   "metadata": {},
   "source": [
    "### Plot again, but also include counts of unreachable states in historgram"
   ]
  },
  {
   "cell_type": "code",
   "execution_count": null,
   "metadata": {
    "scrolled": false
   },
   "outputs": [],
   "source": [
    "exp.analyze(countUnreachable=True)"
   ]
  },
  {
   "cell_type": "markdown",
   "metadata": {},
   "source": [
    "## Assign node function from list of all possible functions"
   ]
  },
  {
   "cell_type": "code",
   "execution_count": null,
   "metadata": {},
   "outputs": [],
   "source": [
    "gnf = exp.get_num_funcs\n",
    "gnf"
   ]
  },
  {
   "cell_type": "code",
   "execution_count": null,
   "metadata": {
    "scrolled": true
   },
   "outputs": [],
   "source": [
    "exp.gen_tpm(dict(A=8, B=12))"
   ]
  },
  {
   "cell_type": "code",
   "execution_count": null,
   "metadata": {},
   "outputs": [],
   "source": [
    "exp.net.get_node('A').func.true_states"
   ]
  },
  {
   "cell_type": "code",
   "execution_count": null,
   "metadata": {},
   "outputs": [],
   "source": [
    "%time exp.run(plot=True,save='funcs_AB')"
   ]
  },
  {
   "cell_type": "code",
   "execution_count": null,
   "metadata": {
    "scrolled": true
   },
   "outputs": [],
   "source": [
    "exp.gen_tpm(dict(A=0,B=0,C=0)) # node funcs never return 1"
   ]
  },
  {
   "cell_type": "code",
   "execution_count": null,
   "metadata": {},
   "outputs": [],
   "source": [
    "exp.net.get_node('A').func.true_states"
   ]
  },
  {
   "cell_type": "code",
   "execution_count": null,
   "metadata": {},
   "outputs": [],
   "source": [
    "%time exp.run(plot=True)"
   ]
  },
  {
   "cell_type": "code",
   "execution_count": null,
   "metadata": {},
   "outputs": [],
   "source": [
    "exp.net.draw_states()"
   ]
  },
  {
   "cell_type": "code",
   "execution_count": null,
   "metadata": {},
   "outputs": [],
   "source": []
  }
 ],
 "metadata": {
  "kernelspec": {
   "display_name": "Python 3",
   "language": "python",
   "name": "python3"
  },
  "language_info": {
   "codemirror_mode": {
    "name": "ipython",
    "version": 3
   },
   "file_extension": ".py",
   "mimetype": "text/x-python",
   "name": "python",
   "nbconvert_exporter": "python",
   "pygments_lexer": "ipython3",
   "version": "3.6.9"
  }
 },
 "nbformat": 4,
 "nbformat_minor": 4
}
