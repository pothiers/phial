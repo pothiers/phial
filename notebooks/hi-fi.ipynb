{
 "cells": [
  {
   "cell_type": "code",
   "execution_count": 1,
   "metadata": {},
   "outputs": [],
   "source": [
    "import networkx as nx\n",
    "from networkx.drawing.nx_pydot import pydot_layout\n",
    "from pprint import pprint\n",
    "import pyphi\n",
    "\n",
    "import phial.toolbox as tb\n",
    "import phial.node_functions as nf\n",
    "import phial.experiment as ex\n",
    "from phial.utils import tic,toc\n",
    "from phial.experiment import Experiment\n",
    "tic() # start tracking time of Notebook load"
   ]
  },
  {
   "cell_type": "markdown",
   "metadata": {},
   "source": [
    "## From Larissa's 2015 paper https://www.mdpi.com/1099-4300/17/8/5472"
   ]
  },
  {
   "cell_type": "code",
   "execution_count": 2,
   "metadata": {
    "scrolled": false
   },
   "outputs": [
    {
     "data": {
      "text/plain": [
       "{'edges': [('A', 'A'),\n",
       "  ('A', 'B'),\n",
       "  ('A', 'F'),\n",
       "  ('B', 'A'),\n",
       "  ('B', 'B'),\n",
       "  ('B', 'C'),\n",
       "  ('C', 'B'),\n",
       "  ('C', 'C'),\n",
       "  ('C', 'D'),\n",
       "  ('D', 'C'),\n",
       "  ('D', 'D'),\n",
       "  ('D', 'E'),\n",
       "  ('E', 'D'),\n",
       "  ('E', 'E'),\n",
       "  ('E', 'F'),\n",
       "  ('F', 'A'),\n",
       "  ('F', 'E'),\n",
       "  ('F', 'F')],\n",
       " 'nodes': ['<phial.toolbox.Node object at 0x7f0903b4a390>',\n",
       "  '<phial.toolbox.Node object at 0x7f0903b4a3c8>',\n",
       "  '<phial.toolbox.Node object at 0x7f0903b4a400>',\n",
       "  '<phial.toolbox.Node object at 0x7f0903b4a438>',\n",
       "  '<phial.toolbox.Node object at 0x7f0903b4a470>',\n",
       "  '<phial.toolbox.Node object at 0x7f0903b4a4a8>'],\n",
       " 'num_in_states': 64,\n",
       " 'num_unreachable_states': 32,\n",
       " 'num_state_cc': 4,\n",
       " 'num_state_cycles': 4}"
      ]
     },
     "execution_count": 2,
     "metadata": {},
     "output_type": "execute_result"
    }
   ],
   "source": [
    "import numpy as np\n",
    "tpm=np.array([[0., 0., 0., 0., 0., 0.],\n",
    "       [1., 1., 0., 0., 0., 0.],\n",
    "       [0., 1., 1., 0., 0., 0.],\n",
    "       [1., 0., 1., 0., 0., 0.],\n",
    "       [0., 0., 1., 1., 0., 0.],\n",
    "       [1., 1., 1., 1., 0., 0.],\n",
    "       [0., 1., 0., 1., 0., 0.],\n",
    "       [1., 0., 0., 1., 0., 0.],\n",
    "       [0., 0., 0., 1., 1., 0.],\n",
    "       [1., 1., 0., 1., 1., 0.],\n",
    "       [0., 1., 1., 1., 1., 0.],\n",
    "       [1., 0., 1., 1., 1., 0.],\n",
    "       [0., 0., 1., 0., 1., 0.],\n",
    "       [1., 1., 1., 0., 1., 0.],\n",
    "       [0., 1., 0., 0., 1., 0.],\n",
    "       [1., 0., 0., 0., 1., 0.],\n",
    "       [0., 0., 0., 0., 1., 1.],\n",
    "       [1., 1., 0., 0., 1., 1.],\n",
    "       [0., 1., 1., 0., 1., 1.],\n",
    "       [1., 0., 1., 0., 1., 1.],\n",
    "       [0., 0., 1., 1., 1., 1.],\n",
    "       [1., 1., 1., 1., 1., 1.],\n",
    "       [0., 1., 0., 1., 1., 1.],\n",
    "       [1., 0., 0., 1., 1., 1.],\n",
    "       [0., 0., 0., 1., 0., 1.],\n",
    "       [1., 1., 0., 1., 0., 1.],\n",
    "       [0., 1., 1., 1., 0., 1.],\n",
    "       [1., 0., 1., 1., 0., 1.],\n",
    "       [0., 0., 1., 0., 0., 1.],\n",
    "       [1., 1., 1., 0., 0., 1.],\n",
    "       [0., 1., 0., 0., 0., 1.],\n",
    "       [1., 0., 0., 0., 0., 1.],\n",
    "       [1., 0., 0., 0., 0., 1.],\n",
    "       [0., 1., 0., 0., 0., 1.],\n",
    "       [1., 1., 1., 0., 0., 1.],\n",
    "       [0., 0., 1., 0., 0., 1.],\n",
    "       [1., 0., 1., 1., 0., 1.],\n",
    "       [0., 1., 1., 1., 0., 1.],\n",
    "       [1., 1., 0., 1., 0., 1.],\n",
    "       [0., 0., 0., 1., 0., 1.],\n",
    "       [1., 0., 0., 1., 1., 1.],\n",
    "       [0., 1., 0., 1., 1., 1.],\n",
    "       [1., 1., 1., 1., 1., 1.],\n",
    "       [0., 0., 1., 1., 1., 1.],\n",
    "       [1., 0., 1., 0., 1., 1.],\n",
    "       [0., 1., 1., 0., 1., 1.],\n",
    "       [1., 1., 0., 0., 1., 1.],\n",
    "       [0., 0., 0., 0., 1., 1.],\n",
    "       [1., 0., 0., 0., 1., 0.],\n",
    "       [0., 1., 0., 0., 1., 0.],\n",
    "       [1., 1., 1., 0., 1., 0.],\n",
    "       [0., 0., 1., 0., 1., 0.],\n",
    "       [1., 0., 1., 1., 1., 0.],\n",
    "       [0., 1., 1., 1., 1., 0.],\n",
    "       [1., 1., 0., 1., 1., 0.],\n",
    "       [0., 0., 0., 1., 1., 0.],\n",
    "       [1., 0., 0., 1., 0., 0.],\n",
    "       [0., 1., 0., 1., 0., 0.],\n",
    "       [1., 1., 1., 1., 0., 0.],\n",
    "       [0., 0., 1., 1., 0., 0.],\n",
    "       [1., 0., 1., 0., 0., 0.],\n",
    "       [0., 1., 1., 0., 0., 0.],\n",
    "       [1., 1., 0., 0., 0., 0.],\n",
    "       [0., 0., 0., 0., 0., 0.]])\n",
    "cm=np.array([[1, 1, 0, 0, 0, 1],\n",
    "       [1, 1, 1, 0, 0, 0],\n",
    "       [0, 1, 1, 1, 0, 0],\n",
    "       [0, 0, 1, 1, 1, 0],\n",
    "       [0, 0, 0, 1, 1, 1],\n",
    "       [1, 0, 0, 0, 1, 1]], dtype=np.uint8)\n",
    "G = nx.DiGraph(cm)\n",
    "net = tb.Net(edges=G.edges(), tpm=tpm)\n",
    "net.info()"
   ]
  },
  {
   "cell_type": "code",
   "execution_count": 3,
   "metadata": {},
   "outputs": [
    {
     "data": {
      "text/plain": [
       "[<phial.toolbox.Node at 0x7f0903b4a390>,\n",
       " <phial.toolbox.Node at 0x7f0903b4a3c8>,\n",
       " <phial.toolbox.Node at 0x7f0903b4a400>,\n",
       " <phial.toolbox.Node at 0x7f0903b4a438>,\n",
       " <phial.toolbox.Node at 0x7f0903b4a470>,\n",
       " <phial.toolbox.Node at 0x7f0903b4a4a8>]"
      ]
     },
     "execution_count": 3,
     "metadata": {},
     "output_type": "execute_result"
    }
   ],
   "source": [
    "net.nodes"
   ]
  },
  {
   "cell_type": "code",
   "execution_count": 4,
   "metadata": {
    "scrolled": true
   },
   "outputs": [
    {
     "data": {
      "text/plain": [
       "<networkx.classes.digraph.DiGraph at 0x7f0903b4a080>"
      ]
     },
     "execution_count": 4,
     "metadata": {},
     "output_type": "execute_result"
    }
   ],
   "source": [
    "nx.DiGraph(pyphi.convert.state_by_node2state_by_state(net.tpm))"
   ]
  },
  {
   "cell_type": "code",
   "execution_count": 5,
   "metadata": {
    "scrolled": true
   },
   "outputs": [
    {
     "data": {
      "text/html": [
       "<div>\n",
       "<style scoped>\n",
       "    .dataframe tbody tr th:only-of-type {\n",
       "        vertical-align: middle;\n",
       "    }\n",
       "\n",
       "    .dataframe tbody tr th {\n",
       "        vertical-align: top;\n",
       "    }\n",
       "\n",
       "    .dataframe thead th {\n",
       "        text-align: right;\n",
       "    }\n",
       "</style>\n",
       "<table border=\"1\" class=\"dataframe\">\n",
       "  <thead>\n",
       "    <tr style=\"text-align: right;\">\n",
       "      <th></th>\n",
       "      <th>A</th>\n",
       "      <th>B</th>\n",
       "      <th>C</th>\n",
       "      <th>D</th>\n",
       "      <th>E</th>\n",
       "      <th>F</th>\n",
       "    </tr>\n",
       "    <tr>\n",
       "      <th>ABCDEF</th>\n",
       "      <th></th>\n",
       "      <th></th>\n",
       "      <th></th>\n",
       "      <th></th>\n",
       "      <th></th>\n",
       "      <th></th>\n",
       "    </tr>\n",
       "  </thead>\n",
       "  <tbody>\n",
       "    <tr>\n",
       "      <th>000000</th>\n",
       "      <td>0.0</td>\n",
       "      <td>0.0</td>\n",
       "      <td>0.0</td>\n",
       "      <td>0.0</td>\n",
       "      <td>0.0</td>\n",
       "      <td>0.0</td>\n",
       "    </tr>\n",
       "    <tr>\n",
       "      <th>100000</th>\n",
       "      <td>1.0</td>\n",
       "      <td>1.0</td>\n",
       "      <td>0.0</td>\n",
       "      <td>0.0</td>\n",
       "      <td>0.0</td>\n",
       "      <td>0.0</td>\n",
       "    </tr>\n",
       "    <tr>\n",
       "      <th>010000</th>\n",
       "      <td>0.0</td>\n",
       "      <td>1.0</td>\n",
       "      <td>1.0</td>\n",
       "      <td>0.0</td>\n",
       "      <td>0.0</td>\n",
       "      <td>0.0</td>\n",
       "    </tr>\n",
       "    <tr>\n",
       "      <th>110000</th>\n",
       "      <td>1.0</td>\n",
       "      <td>0.0</td>\n",
       "      <td>1.0</td>\n",
       "      <td>0.0</td>\n",
       "      <td>0.0</td>\n",
       "      <td>0.0</td>\n",
       "    </tr>\n",
       "    <tr>\n",
       "      <th>001000</th>\n",
       "      <td>0.0</td>\n",
       "      <td>0.0</td>\n",
       "      <td>1.0</td>\n",
       "      <td>1.0</td>\n",
       "      <td>0.0</td>\n",
       "      <td>0.0</td>\n",
       "    </tr>\n",
       "    <tr>\n",
       "      <th>...</th>\n",
       "      <td>...</td>\n",
       "      <td>...</td>\n",
       "      <td>...</td>\n",
       "      <td>...</td>\n",
       "      <td>...</td>\n",
       "      <td>...</td>\n",
       "    </tr>\n",
       "    <tr>\n",
       "      <th>110111</th>\n",
       "      <td>0.0</td>\n",
       "      <td>0.0</td>\n",
       "      <td>1.0</td>\n",
       "      <td>1.0</td>\n",
       "      <td>0.0</td>\n",
       "      <td>0.0</td>\n",
       "    </tr>\n",
       "    <tr>\n",
       "      <th>001111</th>\n",
       "      <td>1.0</td>\n",
       "      <td>0.0</td>\n",
       "      <td>1.0</td>\n",
       "      <td>0.0</td>\n",
       "      <td>0.0</td>\n",
       "      <td>0.0</td>\n",
       "    </tr>\n",
       "    <tr>\n",
       "      <th>101111</th>\n",
       "      <td>0.0</td>\n",
       "      <td>1.0</td>\n",
       "      <td>1.0</td>\n",
       "      <td>0.0</td>\n",
       "      <td>0.0</td>\n",
       "      <td>0.0</td>\n",
       "    </tr>\n",
       "    <tr>\n",
       "      <th>011111</th>\n",
       "      <td>1.0</td>\n",
       "      <td>1.0</td>\n",
       "      <td>0.0</td>\n",
       "      <td>0.0</td>\n",
       "      <td>0.0</td>\n",
       "      <td>0.0</td>\n",
       "    </tr>\n",
       "    <tr>\n",
       "      <th>111111</th>\n",
       "      <td>0.0</td>\n",
       "      <td>0.0</td>\n",
       "      <td>0.0</td>\n",
       "      <td>0.0</td>\n",
       "      <td>0.0</td>\n",
       "      <td>0.0</td>\n",
       "    </tr>\n",
       "  </tbody>\n",
       "</table>\n",
       "<p>64 rows × 6 columns</p>\n",
       "</div>"
      ],
      "text/plain": [
       "          A    B    C    D    E    F\n",
       "ABCDEF                              \n",
       "000000  0.0  0.0  0.0  0.0  0.0  0.0\n",
       "100000  1.0  1.0  0.0  0.0  0.0  0.0\n",
       "010000  0.0  1.0  1.0  0.0  0.0  0.0\n",
       "110000  1.0  0.0  1.0  0.0  0.0  0.0\n",
       "001000  0.0  0.0  1.0  1.0  0.0  0.0\n",
       "...     ...  ...  ...  ...  ...  ...\n",
       "110111  0.0  0.0  1.0  1.0  0.0  0.0\n",
       "001111  1.0  0.0  1.0  0.0  0.0  0.0\n",
       "101111  0.0  1.0  1.0  0.0  0.0  0.0\n",
       "011111  1.0  1.0  0.0  0.0  0.0  0.0\n",
       "111111  0.0  0.0  0.0  0.0  0.0  0.0\n",
       "\n",
       "[64 rows x 6 columns]"
      ]
     },
     "execution_count": 5,
     "metadata": {},
     "output_type": "execute_result"
    }
   ],
   "source": [
    "net.tpm"
   ]
  },
  {
   "cell_type": "code",
   "execution_count": 6,
   "metadata": {},
   "outputs": [
    {
     "data": {
      "text/plain": [
       "ABCDEF\n",
       "000000    0.0\n",
       "100000    1.0\n",
       "010000    0.0\n",
       "110000    1.0\n",
       "001000    0.0\n",
       "         ... \n",
       "110111    0.0\n",
       "001111    1.0\n",
       "101111    0.0\n",
       "011111    1.0\n",
       "111111    0.0\n",
       "Name: A, Length: 64, dtype: float64"
      ]
     },
     "execution_count": 6,
     "metadata": {},
     "output_type": "execute_result"
    }
   ],
   "source": [
    "net.tpm.loc[:,'A']"
   ]
  },
  {
   "cell_type": "code",
   "execution_count": 7,
   "metadata": {},
   "outputs": [
    {
     "data": {
      "text/html": [
       "<div>\n",
       "<style scoped>\n",
       "    .dataframe tbody tr th:only-of-type {\n",
       "        vertical-align: middle;\n",
       "    }\n",
       "\n",
       "    .dataframe tbody tr th {\n",
       "        vertical-align: top;\n",
       "    }\n",
       "\n",
       "    .dataframe thead th {\n",
       "        text-align: right;\n",
       "    }\n",
       "</style>\n",
       "<table border=\"1\" class=\"dataframe\">\n",
       "  <thead>\n",
       "    <tr style=\"text-align: right;\">\n",
       "      <th></th>\n",
       "      <th>A</th>\n",
       "    </tr>\n",
       "    <tr>\n",
       "      <th>AF</th>\n",
       "      <th></th>\n",
       "    </tr>\n",
       "  </thead>\n",
       "  <tbody>\n",
       "    <tr>\n",
       "      <th>00</th>\n",
       "      <td>0.0</td>\n",
       "    </tr>\n",
       "    <tr>\n",
       "      <th>10</th>\n",
       "      <td>1.0</td>\n",
       "    </tr>\n",
       "    <tr>\n",
       "      <th>01</th>\n",
       "      <td>1.0</td>\n",
       "    </tr>\n",
       "    <tr>\n",
       "      <th>11</th>\n",
       "      <td>0.0</td>\n",
       "    </tr>\n",
       "  </tbody>\n",
       "</table>\n",
       "</div>"
      ],
      "text/plain": [
       "      A\n",
       "AF     \n",
       "00  0.0\n",
       "10  1.0\n",
       "01  1.0\n",
       "11  0.0"
      ]
     },
     "execution_count": 7,
     "metadata": {},
     "output_type": "execute_result"
    }
   ],
   "source": [
    "net.nodeTpm('A')"
   ]
  },
  {
   "cell_type": "code",
   "execution_count": 8,
   "metadata": {},
   "outputs": [],
   "source": [
    "exp = Experiment([],\n",
    "    net=net,\n",
    "    title='High Phi in 6 nodes',\n",
    "    comment='From Larissas 2015 paper https://www.mdpi.com/1099-4300/17/8/5472',\n",
    "    )"
   ]
  },
  {
   "cell_type": "code",
   "execution_count": 9,
   "metadata": {
    "scrolled": false
   },
   "outputs": [
    {
     "data": {
      "image/png": "[encoded data removed]",
      "text/plain": [
       "<IPython.core.display.Image object>"
      ]
     },
     "execution_count": 9,
     "metadata": {},
     "output_type": "execute_result"
    }
   ],
   "source": [
    "from IPython.display import Image\n",
    "net.gvgraph('hifi.png')\n",
    "Image(filename='hifi.png')"
   ]
  },
  {
   "cell_type": "code",
   "execution_count": 10,
   "metadata": {
    "scrolled": true
   },
   "outputs": [
    {
     "data": {
      "text/html": [
       "<div>\n",
       "<style scoped>\n",
       "    .dataframe tbody tr th:only-of-type {\n",
       "        vertical-align: middle;\n",
       "    }\n",
       "\n",
       "    .dataframe tbody tr th {\n",
       "        vertical-align: top;\n",
       "    }\n",
       "\n",
       "    .dataframe thead th {\n",
       "        text-align: right;\n",
       "    }\n",
       "</style>\n",
       "<table border=\"1\" class=\"dataframe\">\n",
       "  <thead>\n",
       "    <tr style=\"text-align: right;\">\n",
       "      <th></th>\n",
       "      <th>A</th>\n",
       "    </tr>\n",
       "    <tr>\n",
       "      <th>AF</th>\n",
       "      <th></th>\n",
       "    </tr>\n",
       "  </thead>\n",
       "  <tbody>\n",
       "    <tr>\n",
       "      <th>00</th>\n",
       "      <td>0.0</td>\n",
       "    </tr>\n",
       "    <tr>\n",
       "      <th>10</th>\n",
       "      <td>1.0</td>\n",
       "    </tr>\n",
       "    <tr>\n",
       "      <th>01</th>\n",
       "      <td>1.0</td>\n",
       "    </tr>\n",
       "    <tr>\n",
       "      <th>11</th>\n",
       "      <td>0.0</td>\n",
       "    </tr>\n",
       "  </tbody>\n",
       "</table>\n",
       "</div>"
      ],
      "text/plain": [
       "      A\n",
       "AF     \n",
       "00  0.0\n",
       "10  1.0\n",
       "01  1.0\n",
       "11  0.0"
      ]
     },
     "execution_count": 10,
     "metadata": {},
     "output_type": "execute_result"
    }
   ],
   "source": [
    "net.nodeTpm('A') # Note that B->A edge does not affect F output"
   ]
  },
  {
   "cell_type": "code",
   "execution_count": 11,
   "metadata": {
    "scrolled": true
   },
   "outputs": [
    {
     "data": {
      "text/html": [
       "<div>\n",
       "<style scoped>\n",
       "    .dataframe tbody tr th:only-of-type {\n",
       "        vertical-align: middle;\n",
       "    }\n",
       "\n",
       "    .dataframe tbody tr th {\n",
       "        vertical-align: top;\n",
       "    }\n",
       "\n",
       "    .dataframe thead th {\n",
       "        text-align: right;\n",
       "    }\n",
       "</style>\n",
       "<table border=\"1\" class=\"dataframe\">\n",
       "  <thead>\n",
       "    <tr style=\"text-align: right;\">\n",
       "      <th></th>\n",
       "      <th>F</th>\n",
       "    </tr>\n",
       "    <tr>\n",
       "      <th>EF</th>\n",
       "      <th></th>\n",
       "    </tr>\n",
       "  </thead>\n",
       "  <tbody>\n",
       "    <tr>\n",
       "      <th>00</th>\n",
       "      <td>0.0</td>\n",
       "    </tr>\n",
       "    <tr>\n",
       "      <th>10</th>\n",
       "      <td>1.0</td>\n",
       "    </tr>\n",
       "    <tr>\n",
       "      <th>01</th>\n",
       "      <td>1.0</td>\n",
       "    </tr>\n",
       "    <tr>\n",
       "      <th>11</th>\n",
       "      <td>0.0</td>\n",
       "    </tr>\n",
       "  </tbody>\n",
       "</table>\n",
       "</div>"
      ],
      "text/plain": [
       "      F\n",
       "EF     \n",
       "00  0.0\n",
       "10  1.0\n",
       "01  1.0\n",
       "11  0.0"
      ]
     },
     "execution_count": 11,
     "metadata": {},
     "output_type": "execute_result"
    }
   ],
   "source": [
    "net.nodeTpm('F')"
   ]
  },
  {
   "cell_type": "code",
   "execution_count": 12,
   "metadata": {},
   "outputs": [
    {
     "data": {
      "text/plain": [
       "<networkx.classes.digraph.DiGraph at 0x7f0903a2c940>"
      ]
     },
     "execution_count": 12,
     "metadata": {},
     "output_type": "execute_result"
    },
    {
     "data": {
      "image/png": "[encoded data removed]",
      "text/plain": [
       "<Figure size 432x288 with 1 Axes>"
      ]
     },
     "metadata": {},
     "output_type": "display_data"
    }
   ],
   "source": [
    "net.draw_states()"
   ]
  },
  {
   "cell_type": "code",
   "execution_count": 13,
   "metadata": {
    "scrolled": true
   },
   "outputs": [
    {
     "name": "stderr",
     "output_type": "stream",
     "text": [
      "                                                                    "
     ]
    },
    {
     "name": "stdout",
     "output_type": "stream",
     "text": [
      "CPU times: user 1.39 s, sys: 116 ms, total: 1.51 s\n",
      "Wall time: 27.9 s\n"
     ]
    },
    {
     "name": "stderr",
     "output_type": "stream",
     "text": [
      "\r"
     ]
    },
    {
     "data": {
      "text/plain": [
       "20.906248"
      ]
     },
     "execution_count": 13,
     "metadata": {},
     "output_type": "execute_result"
    }
   ],
   "source": [
    "%time net.phi('000011')"
   ]
  },
  {
   "cell_type": "code",
   "execution_count": 14,
   "metadata": {},
   "outputs": [
    {
     "name": "stderr",
     "output_type": "stream",
     "text": [
      "                                                                    "
     ]
    },
    {
     "name": "stdout",
     "output_type": "stream",
     "text": [
      "Saved experiment with results to: /home/pothiers/phial/results_2020-05-19T10:48:53.115027.json\n"
     ]
    },
    {
     "name": "stderr",
     "output_type": "stream",
     "text": [
      "\r"
     ]
    },
    {
     "data": {
      "text/plain": [
       "{'timestamp': '2020-05-19 10:34:19.764922',\n",
       " 'duration': 873.350088177016,\n",
       " 'results': {'000000': {'phi': 20.906248, 'elapsed_seconds': 27.1350198329892},\n",
       "  '100010': {'phi': 20.906248, 'elapsed_seconds': 27.362008231226355},\n",
       "  '010001': {'phi': 20.906248, 'elapsed_seconds': 27.09264347795397},\n",
       "  '000101': {'phi': 20.906248, 'elapsed_seconds': 27.041699602967128},\n",
       "  '010100': {'phi': 20.906248, 'elapsed_seconds': 27.820063499035314},\n",
       "  '100111': {'phi': 20.906248, 'elapsed_seconds': 27.358481524977833},\n",
       "  '000110': {'phi': 20.906248, 'elapsed_seconds': 27.37763502402231},\n",
       "  '010111': {'phi': 20.906248, 'elapsed_seconds': 27.446154775097966},\n",
       "  '110011': {'phi': 20.906248, 'elapsed_seconds': 27.418051460990682},\n",
       "  '101110': {'phi': 20.906248, 'elapsed_seconds': 27.397691608872265},\n",
       "  '100100': {'phi': 20.906248, 'elapsed_seconds': 27.904673716053367},\n",
       "  '010010': {'phi': 20.906248, 'elapsed_seconds': 27.141064767958596},\n",
       "  '111111': {'phi': 20.906248, 'elapsed_seconds': 27.188569655874744},\n",
       "  '001111': {'phi': 20.906248, 'elapsed_seconds': 27.259861811995506},\n",
       "  '000011': {'phi': 20.906248, 'elapsed_seconds': 27.148814361076802},\n",
       "  '111100': {'phi': 20.906248, 'elapsed_seconds': 27.318100197939202},\n",
       "  '001100': {'phi': 20.906248, 'elapsed_seconds': 27.003622607095167},\n",
       "  '011000': {'phi': 20.906248, 'elapsed_seconds': 27.09180778893642},\n",
       "  '001001': {'phi': 20.906248, 'elapsed_seconds': 27.31649786187336},\n",
       "  '101101': {'phi': 20.906248, 'elapsed_seconds': 27.33374105487019},\n",
       "  '111001': {'phi': 20.906248, 'elapsed_seconds': 27.27023274381645},\n",
       "  '101011': {'phi': 20.906248, 'elapsed_seconds': 27.053123974008486},\n",
       "  '001010': {'phi': 20.906248, 'elapsed_seconds': 27.0761139402166},\n",
       "  '011101': {'phi': 20.906248, 'elapsed_seconds': 27.640725990990177},\n",
       "  '110101': {'phi': 20.906248, 'elapsed_seconds': 26.965108051896095},\n",
       "  '011011': {'phi': 20.906248, 'elapsed_seconds': 27.928830259945244},\n",
       "  '100001': {'phi': 20.906248, 'elapsed_seconds': 27.185218597063795},\n",
       "  '110000': {'phi': 20.906248, 'elapsed_seconds': 27.337675384944305},\n",
       "  '110110': {'phi': 20.906248, 'elapsed_seconds': 27.200155785074458},\n",
       "  '111010': {'phi': 20.906248, 'elapsed_seconds': 27.43213693005964},\n",
       "  '011110': {'phi': 20.906248, 'elapsed_seconds': 27.061158393044025},\n",
       "  '101000': {'phi': 20.906248, 'elapsed_seconds': 27.03855415387079}},\n",
       " 'connected_components': 4,\n",
       " 'cycles': 4,\n",
       " 'filename': None,\n",
       " 'uname': uname_result(system='Linux', node='chimp20', release='5.3.0-51-generic', version='#44~18.04.2-Ubuntu SMP Thu Apr 23 14:27:18 UTC 2020', machine='x86_64', processor='x86_64')}"
      ]
     },
     "execution_count": 14,
     "metadata": {},
     "output_type": "execute_result"
    }
   ],
   "source": [
    "exp.run()"
   ]
  },
  {
   "cell_type": "code",
   "execution_count": 15,
   "metadata": {
    "scrolled": true
   },
   "outputs": [
    {
     "data": {
      "text/plain": [
       "{'timestamp': '2020-05-19 10:34:19.764922',\n",
       " 'duration': 873.350088177016,\n",
       " 'results': {'000000': {'phi': 20.906248, 'elapsed_seconds': 27.1350198329892},\n",
       "  '100010': {'phi': 20.906248, 'elapsed_seconds': 27.362008231226355},\n",
       "  '010001': {'phi': 20.906248, 'elapsed_seconds': 27.09264347795397},\n",
       "  '000101': {'phi': 20.906248, 'elapsed_seconds': 27.041699602967128},\n",
       "  '010100': {'phi': 20.906248, 'elapsed_seconds': 27.820063499035314},\n",
       "  '100111': {'phi': 20.906248, 'elapsed_seconds': 27.358481524977833},\n",
       "  '000110': {'phi': 20.906248, 'elapsed_seconds': 27.37763502402231},\n",
       "  '010111': {'phi': 20.906248, 'elapsed_seconds': 27.446154775097966},\n",
       "  '110011': {'phi': 20.906248, 'elapsed_seconds': 27.418051460990682},\n",
       "  '101110': {'phi': 20.906248, 'elapsed_seconds': 27.397691608872265},\n",
       "  '100100': {'phi': 20.906248, 'elapsed_seconds': 27.904673716053367},\n",
       "  '010010': {'phi': 20.906248, 'elapsed_seconds': 27.141064767958596},\n",
       "  '111111': {'phi': 20.906248, 'elapsed_seconds': 27.188569655874744},\n",
       "  '001111': {'phi': 20.906248, 'elapsed_seconds': 27.259861811995506},\n",
       "  '000011': {'phi': 20.906248, 'elapsed_seconds': 27.148814361076802},\n",
       "  '111100': {'phi': 20.906248, 'elapsed_seconds': 27.318100197939202},\n",
       "  '001100': {'phi': 20.906248, 'elapsed_seconds': 27.003622607095167},\n",
       "  '011000': {'phi': 20.906248, 'elapsed_seconds': 27.09180778893642},\n",
       "  '001001': {'phi': 20.906248, 'elapsed_seconds': 27.31649786187336},\n",
       "  '101101': {'phi': 20.906248, 'elapsed_seconds': 27.33374105487019},\n",
       "  '111001': {'phi': 20.906248, 'elapsed_seconds': 27.27023274381645},\n",
       "  '101011': {'phi': 20.906248, 'elapsed_seconds': 27.053123974008486},\n",
       "  '001010': {'phi': 20.906248, 'elapsed_seconds': 27.0761139402166},\n",
       "  '011101': {'phi': 20.906248, 'elapsed_seconds': 27.640725990990177},\n",
       "  '110101': {'phi': 20.906248, 'elapsed_seconds': 26.965108051896095},\n",
       "  '011011': {'phi': 20.906248, 'elapsed_seconds': 27.928830259945244},\n",
       "  '100001': {'phi': 20.906248, 'elapsed_seconds': 27.185218597063795},\n",
       "  '110000': {'phi': 20.906248, 'elapsed_seconds': 27.337675384944305},\n",
       "  '110110': {'phi': 20.906248, 'elapsed_seconds': 27.200155785074458},\n",
       "  '111010': {'phi': 20.906248, 'elapsed_seconds': 27.43213693005964},\n",
       "  '011110': {'phi': 20.906248, 'elapsed_seconds': 27.061158393044025},\n",
       "  '101000': {'phi': 20.906248, 'elapsed_seconds': 27.03855415387079}},\n",
       " 'connected_components': 4,\n",
       " 'cycles': 4,\n",
       " 'filename': None,\n",
       " 'uname': uname_result(system='Linux', node='chimp20', release='5.3.0-51-generic', version='#44~18.04.2-Ubuntu SMP Thu Apr 23 14:27:18 UTC 2020', machine='x86_64', processor='x86_64')}"
      ]
     },
     "execution_count": 15,
     "metadata": {},
     "output_type": "execute_result"
    }
   ],
   "source": [
    "exp.info()"
   ]
  },
  {
   "cell_type": "code",
   "execution_count": 16,
   "metadata": {},
   "outputs": [
    {
     "data": {
      "text/plain": [
       "{'edges': [('A', 'A'),\n",
       "  ('A', 'B'),\n",
       "  ('A', 'F'),\n",
       "  ('B', 'A'),\n",
       "  ('B', 'B'),\n",
       "  ('B', 'C'),\n",
       "  ('C', 'B'),\n",
       "  ('C', 'C'),\n",
       "  ('C', 'D'),\n",
       "  ('D', 'C'),\n",
       "  ('D', 'D'),\n",
       "  ('D', 'E'),\n",
       "  ('E', 'D'),\n",
       "  ('E', 'E'),\n",
       "  ('E', 'F'),\n",
       "  ('F', 'A'),\n",
       "  ('F', 'E'),\n",
       "  ('F', 'F')],\n",
       " 'tpm': [('000000', '000000'),\n",
       "  ('100000', '110000'),\n",
       "  ('010000', '011000'),\n",
       "  ('110000', '101000'),\n",
       "  ('001000', '001100'),\n",
       "  ('101000', '111100'),\n",
       "  ('011000', '010100'),\n",
       "  ('111000', '100100'),\n",
       "  ('000100', '000110'),\n",
       "  ('100100', '110110'),\n",
       "  ('010100', '011110'),\n",
       "  ('110100', '101110'),\n",
       "  ('001100', '001010'),\n",
       "  ('101100', '111010'),\n",
       "  ('011100', '010010'),\n",
       "  ('111100', '100010'),\n",
       "  ('000010', '000011'),\n",
       "  ('100010', '110011'),\n",
       "  ('010010', '011011'),\n",
       "  ('110010', '101011'),\n",
       "  ('001010', '001111'),\n",
       "  ('101010', '111111'),\n",
       "  ('011010', '010111'),\n",
       "  ('111010', '100111'),\n",
       "  ('000110', '000101'),\n",
       "  ('100110', '110101'),\n",
       "  ('010110', '011101'),\n",
       "  ('110110', '101101'),\n",
       "  ('001110', '001001'),\n",
       "  ('101110', '111001'),\n",
       "  ('011110', '010001'),\n",
       "  ('111110', '100001'),\n",
       "  ('000001', '100001'),\n",
       "  ('100001', '010001'),\n",
       "  ('010001', '111001'),\n",
       "  ('110001', '001001'),\n",
       "  ('001001', '101101'),\n",
       "  ('101001', '011101'),\n",
       "  ('011001', '110101'),\n",
       "  ('111001', '000101'),\n",
       "  ('000101', '100111'),\n",
       "  ('100101', '010111'),\n",
       "  ('010101', '111111'),\n",
       "  ('110101', '001111'),\n",
       "  ('001101', '101011'),\n",
       "  ('101101', '011011'),\n",
       "  ('011101', '110011'),\n",
       "  ('111101', '000011'),\n",
       "  ('000011', '100010'),\n",
       "  ('100011', '010010'),\n",
       "  ('010011', '111010'),\n",
       "  ('110011', '001010'),\n",
       "  ('001011', '101110'),\n",
       "  ('101011', '011110'),\n",
       "  ('011011', '110110'),\n",
       "  ('111011', '000110'),\n",
       "  ('000111', '100100'),\n",
       "  ('100111', '010100'),\n",
       "  ('010111', '111100'),\n",
       "  ('110111', '001100'),\n",
       "  ('001111', '101000'),\n",
       "  ('101111', '011000'),\n",
       "  ('011111', '110000'),\n",
       "  ('111111', '000000')],\n",
       " 'nodes': [{'label': 'A', 'id': 0, 'num_states': 2},\n",
       "  {'label': 'B', 'id': 1, 'num_states': 2},\n",
       "  {'label': 'C', 'id': 2, 'num_states': 2},\n",
       "  {'label': 'D', 'id': 3, 'num_states': 2},\n",
       "  {'label': 'E', 'id': 4, 'num_states': 2},\n",
       "  {'label': 'F', 'id': 5, 'num_states': 2}]}"
      ]
     },
     "execution_count": 16,
     "metadata": {},
     "output_type": "execute_result"
    }
   ],
   "source": [
    "exp.net.to_json()"
   ]
  },
  {
   "cell_type": "code",
   "execution_count": 17,
   "metadata": {},
   "outputs": [
    {
     "ename": "TypeError",
     "evalue": "'str' object is not callable",
     "output_type": "error",
     "traceback": [
      "---------------------------------------------------------------------------",
      "TypeError                                 Traceback (most recent call last)",
      "<ipython-input-17-ca673ab3e38f> in <module>\n----> 1 net2 = tb.Net()\n      2 net2.from_json('../examples/hi-fi.json')\n",
      "~/sandbox/phial/phial/toolbox.py in __init__(self, edges, tpm, N, SpN, title, func)\n    160         self.graph.name = title\n    161         if tpm is None:\n--> 162             self.tpm = self.calc_tpm()\n    163         else:\n    164             allstates = all_states(len(self.graph), backwards=True)\n",
      "~/sandbox/phial/phial/toolbox.py in calc_tpm(self)\n    363             for i in range(N):\n    364                 node = self.nodes[i]\n--> 365                 nodestate = self.eval_node(node,sv)\n    366                 df.loc[s0,node.label] =  nodestate\n    367 \n",
      "~/sandbox/phial/phial/toolbox.py in eval_node(self, node, system_state_tup)\n    330                     for l in set(self.graph.predecessors(node.label))])\n    331         args = [system_state_tup[i] for i in preds_id]\n--> 332         return node.func(args) # args are in node order\n    333         \n    334 \n",
      "TypeError: 'str' object is not callable"
     ]
    }
   ],
   "source": [
    "net2 = tb.Net()\n",
    "net2.from_json('../examples/hi-fi.json')"
   ]
  },
  {
   "cell_type": "code",
   "execution_count": null,
   "metadata": {},
   "outputs": [],
   "source": [
    "ls ../examples"
   ]
  },
  {
   "cell_type": "code",
   "execution_count": null,
   "metadata": {},
   "outputs": [],
   "source": [
    "import pyphi.convert\n",
    "import pandas as pd\n",
    "tpm_sbs = pyphi.convert.state_by_node2state_by_state(tpm)\n",
    "states = tb.all_states(len(net), backwards=True)\n",
    "tpm_df = pd.DataFrame(tpm_sbs, index=states, columns=states)\n",
    "tpm_df\n",
    "S = nx.DiGraph(tpm_df)\n",
    "nx.draw(S, pos=pydot_layout(S), with_labels=True)"
   ]
  },
  {
   "cell_type": "code",
   "execution_count": null,
   "metadata": {},
   "outputs": [],
   "source": [
    "[i for i,j in S.edges() if i==j]"
   ]
  },
  {
   "cell_type": "code",
   "execution_count": null,
   "metadata": {},
   "outputs": [],
   "source": [
    "len(exp.net.unreachable_states)"
   ]
  },
  {
   "cell_type": "code",
   "execution_count": null,
   "metadata": {},
   "outputs": [],
   "source": [
    "len(exp.net.in_states)"
   ]
  },
  {
   "cell_type": "code",
   "execution_count": null,
   "metadata": {},
   "outputs": [],
   "source": [
    "exp.net.out_states"
   ]
  },
  {
   "cell_type": "code",
   "execution_count": null,
   "metadata": {},
   "outputs": [],
   "source": [
    "nx.number_weakly_connected_components(S)"
   ]
  },
  {
   "cell_type": "code",
   "execution_count": null,
   "metadata": {
    "scrolled": true
   },
   "outputs": [],
   "source": [
    "list(nx.simple_cycles(S))"
   ]
  },
  {
   "cell_type": "code",
   "execution_count": null,
   "metadata": {},
   "outputs": [],
   "source": [
    "net.info()"
   ]
  },
  {
   "cell_type": "code",
   "execution_count": null,
   "metadata": {},
   "outputs": [],
   "source": [
    "import datetime\n",
    "elapsed = toc()  # Seconds since start of Notebook load (assuming fresh run)\n",
    "print(f'Elapsed seconds={elapsed}')\n",
    "print(f'Completed on: {str(datetime.datetime.now())}')"
   ]
  }
 ],
 "metadata": {
  "kernelspec": {
   "display_name": "Python 3",
   "language": "python",
   "name": "python3"
  },
  "language_info": {
   "codemirror_mode": {
    "name": "ipython",
    "version": 3
   },
   "file_extension": ".py",
   "mimetype": "text/x-python",
   "name": "python",
   "nbconvert_exporter": "python",
   "pygments_lexer": "ipython3",
   "version": "3.6.9"
  }
 },
 "nbformat": 4,
 "nbformat_minor": 4
}
