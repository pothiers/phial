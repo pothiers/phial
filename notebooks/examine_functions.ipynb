{
 "cells": [
  {
   "cell_type": "markdown",
   "metadata": {},
   "source": [
    "## examine_functions.ipynb\n",
    "### WESmith 05/09/20\n",
    "- look at the individual node functions using truth tables\n",
    "- update: testing gen_truth_funcs()"
   ]
  },
  {
   "cell_type": "code",
   "execution_count": 11,
   "metadata": {},
   "outputs": [],
   "source": [
    "import phial.experiment as ex\n",
    "import itertools as it\n",
    "import pandas as pd"
   ]
  },
  {
   "cell_type": "code",
   "execution_count": 2,
   "metadata": {},
   "outputs": [],
   "source": [
    "def test_func(fun, N):\n",
    "    return pd.DataFrame([(k, (fun(k))) for k in it.product([0,1], repeat=N)])"
   ]
  },
  {
   "cell_type": "code",
   "execution_count": 3,
   "metadata": {},
   "outputs": [],
   "source": [
    "dd = dict(A=2, B=3, C=2, D=1)  # example input dict: 1,2,3 input cases, and a duplicate 2-input case"
   ]
  },
  {
   "cell_type": "code",
   "execution_count": 4,
   "metadata": {},
   "outputs": [],
   "source": [
    "funcs = ex.gen_truth_funcs(dd)"
   ]
  },
  {
   "cell_type": "code",
   "execution_count": 5,
   "metadata": {},
   "outputs": [
    {
     "data": {
      "text/plain": [
       "{'A': [<function phial.experiment.AllPerms.__call__.<locals>.node(inputs)>,\n",
       "  <function phial.experiment.AllPerms.__call__.<locals>.node(inputs)>,\n",
       "  <function phial.experiment.AllPerms.__call__.<locals>.node(inputs)>,\n",
       "  <function phial.experiment.AllPerms.__call__.<locals>.node(inputs)>,\n",
       "  <function phial.experiment.AllPerms.__call__.<locals>.node(inputs)>,\n",
       "  <function phial.experiment.AllPerms.__call__.<locals>.node(inputs)>,\n",
       "  <function phial.experiment.AllPerms.__call__.<locals>.node(inputs)>,\n",
       "  <function phial.experiment.AllPerms.__call__.<locals>.node(inputs)>],\n",
       " 'B': [<function phial.experiment.AllPerms.__call__.<locals>.node(inputs)>,\n",
       "  <function phial.experiment.AllPerms.__call__.<locals>.node(inputs)>,\n",
       "  <function phial.experiment.AllPerms.__call__.<locals>.node(inputs)>,\n",
       "  <function phial.experiment.AllPerms.__call__.<locals>.node(inputs)>,\n",
       "  <function phial.experiment.AllPerms.__call__.<locals>.node(inputs)>,\n",
       "  <function phial.experiment.AllPerms.__call__.<locals>.node(inputs)>,\n",
       "  <function phial.experiment.AllPerms.__call__.<locals>.node(inputs)>,\n",
       "  <function phial.experiment.AllPerms.__call__.<locals>.node(inputs)>,\n",
       "  <function phial.experiment.AllPerms.__call__.<locals>.node(inputs)>,\n",
       "  <function phial.experiment.AllPerms.__call__.<locals>.node(inputs)>,\n",
       "  <function phial.experiment.AllPerms.__call__.<locals>.node(inputs)>,\n",
       "  <function phial.experiment.AllPerms.__call__.<locals>.node(inputs)>,\n",
       "  <function phial.experiment.AllPerms.__call__.<locals>.node(inputs)>,\n",
       "  <function phial.experiment.AllPerms.__call__.<locals>.node(inputs)>,\n",
       "  <function phial.experiment.AllPerms.__call__.<locals>.node(inputs)>,\n",
       "  <function phial.experiment.AllPerms.__call__.<locals>.node(inputs)>],\n",
       " 'C': [<function phial.experiment.AllPerms.__call__.<locals>.node(inputs)>,\n",
       "  <function phial.experiment.AllPerms.__call__.<locals>.node(inputs)>,\n",
       "  <function phial.experiment.AllPerms.__call__.<locals>.node(inputs)>,\n",
       "  <function phial.experiment.AllPerms.__call__.<locals>.node(inputs)>,\n",
       "  <function phial.experiment.AllPerms.__call__.<locals>.node(inputs)>,\n",
       "  <function phial.experiment.AllPerms.__call__.<locals>.node(inputs)>,\n",
       "  <function phial.experiment.AllPerms.__call__.<locals>.node(inputs)>,\n",
       "  <function phial.experiment.AllPerms.__call__.<locals>.node(inputs)>],\n",
       " 'D': [<function phial.experiment.AllPerms.__call__.<locals>.node(inputs)>,\n",
       "  <function phial.experiment.AllPerms.__call__.<locals>.node(inputs)>,\n",
       "  <function phial.experiment.AllPerms.__call__.<locals>.node(inputs)>,\n",
       "  <function phial.experiment.AllPerms.__call__.<locals>.node(inputs)>]}"
      ]
     },
     "execution_count": 5,
     "metadata": {},
     "output_type": "execute_result"
    }
   ],
   "source": [
    "funcs"
   ]
  },
  {
   "cell_type": "code",
   "execution_count": 6,
   "metadata": {},
   "outputs": [
    {
     "name": "stdout",
     "output_type": "stream",
     "text": [
      "        0  1\n",
      "0  (0, 0)  0\n",
      "1  (0, 1)  0\n",
      "2  (1, 0)  0\n",
      "3  (1, 1)  0\n",
      "        0  1\n",
      "0  (0, 0)  1\n",
      "1  (0, 1)  0\n",
      "2  (1, 0)  0\n",
      "3  (1, 1)  0\n",
      "        0  1\n",
      "0  (0, 0)  0\n",
      "1  (0, 1)  1\n",
      "2  (1, 0)  1\n",
      "3  (1, 1)  0\n",
      "        0  1\n",
      "0  (0, 0)  1\n",
      "1  (0, 1)  1\n",
      "2  (1, 0)  1\n",
      "3  (1, 1)  0\n",
      "        0  1\n",
      "0  (0, 0)  0\n",
      "1  (0, 1)  0\n",
      "2  (1, 0)  0\n",
      "3  (1, 1)  1\n",
      "        0  1\n",
      "0  (0, 0)  1\n",
      "1  (0, 1)  0\n",
      "2  (1, 0)  0\n",
      "3  (1, 1)  1\n",
      "        0  1\n",
      "0  (0, 0)  0\n",
      "1  (0, 1)  1\n",
      "2  (1, 0)  1\n",
      "3  (1, 1)  1\n",
      "        0  1\n",
      "0  (0, 0)  1\n",
      "1  (0, 1)  1\n",
      "2  (1, 0)  1\n",
      "3  (1, 1)  1\n"
     ]
    }
   ],
   "source": [
    "node = 'A'\n",
    "for k in funcs[node]:\n",
    "    print(test_func(k, dd[node]))"
   ]
  },
  {
   "cell_type": "code",
   "execution_count": 7,
   "metadata": {},
   "outputs": [
    {
     "name": "stdout",
     "output_type": "stream",
     "text": [
      "           0  1\n",
      "0  (0, 0, 0)  0\n",
      "1  (0, 0, 1)  0\n",
      "2  (0, 1, 0)  0\n",
      "3  (0, 1, 1)  0\n",
      "4  (1, 0, 0)  0\n",
      "5  (1, 0, 1)  0\n",
      "6  (1, 1, 0)  0\n",
      "7  (1, 1, 1)  0\n",
      "           0  1\n",
      "0  (0, 0, 0)  1\n",
      "1  (0, 0, 1)  0\n",
      "2  (0, 1, 0)  0\n",
      "3  (0, 1, 1)  0\n",
      "4  (1, 0, 0)  0\n",
      "5  (1, 0, 1)  0\n",
      "6  (1, 1, 0)  0\n",
      "7  (1, 1, 1)  0\n",
      "           0  1\n",
      "0  (0, 0, 0)  0\n",
      "1  (0, 0, 1)  1\n",
      "2  (0, 1, 0)  1\n",
      "3  (0, 1, 1)  0\n",
      "4  (1, 0, 0)  1\n",
      "5  (1, 0, 1)  0\n",
      "6  (1, 1, 0)  0\n",
      "7  (1, 1, 1)  0\n",
      "           0  1\n",
      "0  (0, 0, 0)  1\n",
      "1  (0, 0, 1)  1\n",
      "2  (0, 1, 0)  1\n",
      "3  (0, 1, 1)  0\n",
      "4  (1, 0, 0)  1\n",
      "5  (1, 0, 1)  0\n",
      "6  (1, 1, 0)  0\n",
      "7  (1, 1, 1)  0\n",
      "           0  1\n",
      "0  (0, 0, 0)  0\n",
      "1  (0, 0, 1)  0\n",
      "2  (0, 1, 0)  0\n",
      "3  (0, 1, 1)  1\n",
      "4  (1, 0, 0)  0\n",
      "5  (1, 0, 1)  1\n",
      "6  (1, 1, 0)  1\n",
      "7  (1, 1, 1)  0\n",
      "           0  1\n",
      "0  (0, 0, 0)  1\n",
      "1  (0, 0, 1)  0\n",
      "2  (0, 1, 0)  0\n",
      "3  (0, 1, 1)  1\n",
      "4  (1, 0, 0)  0\n",
      "5  (1, 0, 1)  1\n",
      "6  (1, 1, 0)  1\n",
      "7  (1, 1, 1)  0\n",
      "           0  1\n",
      "0  (0, 0, 0)  0\n",
      "1  (0, 0, 1)  1\n",
      "2  (0, 1, 0)  1\n",
      "3  (0, 1, 1)  1\n",
      "4  (1, 0, 0)  1\n",
      "5  (1, 0, 1)  1\n",
      "6  (1, 1, 0)  1\n",
      "7  (1, 1, 1)  0\n",
      "           0  1\n",
      "0  (0, 0, 0)  1\n",
      "1  (0, 0, 1)  1\n",
      "2  (0, 1, 0)  1\n",
      "3  (0, 1, 1)  1\n",
      "4  (1, 0, 0)  1\n",
      "5  (1, 0, 1)  1\n",
      "6  (1, 1, 0)  1\n",
      "7  (1, 1, 1)  0\n",
      "           0  1\n",
      "0  (0, 0, 0)  0\n",
      "1  (0, 0, 1)  0\n",
      "2  (0, 1, 0)  0\n",
      "3  (0, 1, 1)  0\n",
      "4  (1, 0, 0)  0\n",
      "5  (1, 0, 1)  0\n",
      "6  (1, 1, 0)  0\n",
      "7  (1, 1, 1)  1\n",
      "           0  1\n",
      "0  (0, 0, 0)  1\n",
      "1  (0, 0, 1)  0\n",
      "2  (0, 1, 0)  0\n",
      "3  (0, 1, 1)  0\n",
      "4  (1, 0, 0)  0\n",
      "5  (1, 0, 1)  0\n",
      "6  (1, 1, 0)  0\n",
      "7  (1, 1, 1)  1\n",
      "           0  1\n",
      "0  (0, 0, 0)  0\n",
      "1  (0, 0, 1)  1\n",
      "2  (0, 1, 0)  1\n",
      "3  (0, 1, 1)  0\n",
      "4  (1, 0, 0)  1\n",
      "5  (1, 0, 1)  0\n",
      "6  (1, 1, 0)  0\n",
      "7  (1, 1, 1)  1\n",
      "           0  1\n",
      "0  (0, 0, 0)  1\n",
      "1  (0, 0, 1)  1\n",
      "2  (0, 1, 0)  1\n",
      "3  (0, 1, 1)  0\n",
      "4  (1, 0, 0)  1\n",
      "5  (1, 0, 1)  0\n",
      "6  (1, 1, 0)  0\n",
      "7  (1, 1, 1)  1\n",
      "           0  1\n",
      "0  (0, 0, 0)  0\n",
      "1  (0, 0, 1)  0\n",
      "2  (0, 1, 0)  0\n",
      "3  (0, 1, 1)  1\n",
      "4  (1, 0, 0)  0\n",
      "5  (1, 0, 1)  1\n",
      "6  (1, 1, 0)  1\n",
      "7  (1, 1, 1)  1\n",
      "           0  1\n",
      "0  (0, 0, 0)  1\n",
      "1  (0, 0, 1)  0\n",
      "2  (0, 1, 0)  0\n",
      "3  (0, 1, 1)  1\n",
      "4  (1, 0, 0)  0\n",
      "5  (1, 0, 1)  1\n",
      "6  (1, 1, 0)  1\n",
      "7  (1, 1, 1)  1\n",
      "           0  1\n",
      "0  (0, 0, 0)  0\n",
      "1  (0, 0, 1)  1\n",
      "2  (0, 1, 0)  1\n",
      "3  (0, 1, 1)  1\n",
      "4  (1, 0, 0)  1\n",
      "5  (1, 0, 1)  1\n",
      "6  (1, 1, 0)  1\n",
      "7  (1, 1, 1)  1\n",
      "           0  1\n",
      "0  (0, 0, 0)  1\n",
      "1  (0, 0, 1)  1\n",
      "2  (0, 1, 0)  1\n",
      "3  (0, 1, 1)  1\n",
      "4  (1, 0, 0)  1\n",
      "5  (1, 0, 1)  1\n",
      "6  (1, 1, 0)  1\n",
      "7  (1, 1, 1)  1\n"
     ]
    }
   ],
   "source": [
    "node = 'B'\n",
    "for k in funcs[node]:\n",
    "    print(test_func(k, dd[node]))"
   ]
  },
  {
   "cell_type": "code",
   "execution_count": 8,
   "metadata": {},
   "outputs": [
    {
     "name": "stdout",
     "output_type": "stream",
     "text": [
      "        0  1\n",
      "0  (0, 0)  0\n",
      "1  (0, 1)  0\n",
      "2  (1, 0)  0\n",
      "3  (1, 1)  0\n",
      "        0  1\n",
      "0  (0, 0)  1\n",
      "1  (0, 1)  0\n",
      "2  (1, 0)  0\n",
      "3  (1, 1)  0\n",
      "        0  1\n",
      "0  (0, 0)  0\n",
      "1  (0, 1)  1\n",
      "2  (1, 0)  1\n",
      "3  (1, 1)  0\n",
      "        0  1\n",
      "0  (0, 0)  1\n",
      "1  (0, 1)  1\n",
      "2  (1, 0)  1\n",
      "3  (1, 1)  0\n",
      "        0  1\n",
      "0  (0, 0)  0\n",
      "1  (0, 1)  0\n",
      "2  (1, 0)  0\n",
      "3  (1, 1)  1\n",
      "        0  1\n",
      "0  (0, 0)  1\n",
      "1  (0, 1)  0\n",
      "2  (1, 0)  0\n",
      "3  (1, 1)  1\n",
      "        0  1\n",
      "0  (0, 0)  0\n",
      "1  (0, 1)  1\n",
      "2  (1, 0)  1\n",
      "3  (1, 1)  1\n",
      "        0  1\n",
      "0  (0, 0)  1\n",
      "1  (0, 1)  1\n",
      "2  (1, 0)  1\n",
      "3  (1, 1)  1\n"
     ]
    }
   ],
   "source": [
    "node = 'C'\n",
    "for k in funcs[node]:\n",
    "    print(test_func(k, dd[node]))"
   ]
  },
  {
   "cell_type": "code",
   "execution_count": 9,
   "metadata": {
    "scrolled": true
   },
   "outputs": [
    {
     "name": "stdout",
     "output_type": "stream",
     "text": [
      "      0  1\n",
      "0  (0,)  0\n",
      "1  (1,)  0\n",
      "      0  1\n",
      "0  (0,)  1\n",
      "1  (1,)  0\n",
      "      0  1\n",
      "0  (0,)  0\n",
      "1  (1,)  1\n",
      "      0  1\n",
      "0  (0,)  1\n",
      "1  (1,)  1\n"
     ]
    }
   ],
   "source": [
    "node = 'D'\n",
    "for k in funcs[node]:\n",
    "    print(test_func(k, dd[node]))"
   ]
  },
  {
   "cell_type": "code",
   "execution_count": 10,
   "metadata": {},
   "outputs": [
    {
     "ename": "ValueError",
     "evalue": "this function group requires a tuple with 2 inputs: 3 supplied",
     "output_type": "error",
     "traceback": [
      "\u001b[0;31m---------------------------------------------------------------------------\u001b[0m",
      "\u001b[0;31mValueError\u001b[0m                                Traceback (most recent call last)",
      "\u001b[0;32m<ipython-input-10-37f100a483af>\u001b[0m in \u001b[0;36m<module>\u001b[0;34m\u001b[0m\n\u001b[1;32m      2\u001b[0m \u001b[0mnode\u001b[0m \u001b[0;34m=\u001b[0m \u001b[0;34m'A'\u001b[0m\u001b[0;34m\u001b[0m\u001b[0;34m\u001b[0m\u001b[0m\n\u001b[1;32m      3\u001b[0m \u001b[0;32mfor\u001b[0m \u001b[0mk\u001b[0m \u001b[0;32min\u001b[0m \u001b[0mfuncs\u001b[0m\u001b[0;34m[\u001b[0m\u001b[0mnode\u001b[0m\u001b[0;34m]\u001b[0m\u001b[0;34m:\u001b[0m\u001b[0;34m\u001b[0m\u001b[0;34m\u001b[0m\u001b[0m\n\u001b[0;32m----> 4\u001b[0;31m     \u001b[0mprint\u001b[0m\u001b[0;34m(\u001b[0m\u001b[0mtest_func\u001b[0m\u001b[0;34m(\u001b[0m\u001b[0mk\u001b[0m\u001b[0;34m,\u001b[0m \u001b[0;36m3\u001b[0m\u001b[0;34m)\u001b[0m\u001b[0;34m)\u001b[0m\u001b[0;34m\u001b[0m\u001b[0;34m\u001b[0m\u001b[0m\n\u001b[0m",
      "\u001b[0;32m<ipython-input-2-1c2321d9492f>\u001b[0m in \u001b[0;36mtest_func\u001b[0;34m(fun, N)\u001b[0m\n\u001b[1;32m      1\u001b[0m \u001b[0;32mdef\u001b[0m \u001b[0mtest_func\u001b[0m\u001b[0;34m(\u001b[0m\u001b[0mfun\u001b[0m\u001b[0;34m,\u001b[0m \u001b[0mN\u001b[0m\u001b[0;34m)\u001b[0m\u001b[0;34m:\u001b[0m\u001b[0;34m\u001b[0m\u001b[0;34m\u001b[0m\u001b[0m\n\u001b[0;32m----> 2\u001b[0;31m     \u001b[0;32mreturn\u001b[0m \u001b[0mpd\u001b[0m\u001b[0;34m.\u001b[0m\u001b[0mDataFrame\u001b[0m\u001b[0;34m(\u001b[0m\u001b[0;34m[\u001b[0m\u001b[0;34m(\u001b[0m\u001b[0mk\u001b[0m\u001b[0;34m,\u001b[0m \u001b[0;34m(\u001b[0m\u001b[0mfun\u001b[0m\u001b[0;34m(\u001b[0m\u001b[0mk\u001b[0m\u001b[0;34m)\u001b[0m\u001b[0;34m)\u001b[0m\u001b[0;34m)\u001b[0m \u001b[0;32mfor\u001b[0m \u001b[0mk\u001b[0m \u001b[0;32min\u001b[0m \u001b[0mit\u001b[0m\u001b[0;34m.\u001b[0m\u001b[0mproduct\u001b[0m\u001b[0;34m(\u001b[0m\u001b[0;34m[\u001b[0m\u001b[0;36m0\u001b[0m\u001b[0;34m,\u001b[0m\u001b[0;36m1\u001b[0m\u001b[0;34m]\u001b[0m\u001b[0;34m,\u001b[0m \u001b[0mrepeat\u001b[0m\u001b[0;34m=\u001b[0m\u001b[0mN\u001b[0m\u001b[0;34m)\u001b[0m\u001b[0;34m]\u001b[0m\u001b[0;34m)\u001b[0m\u001b[0;34m\u001b[0m\u001b[0;34m\u001b[0m\u001b[0m\n\u001b[0m",
      "\u001b[0;32m<ipython-input-2-1c2321d9492f>\u001b[0m in \u001b[0;36m<listcomp>\u001b[0;34m(.0)\u001b[0m\n\u001b[1;32m      1\u001b[0m \u001b[0;32mdef\u001b[0m \u001b[0mtest_func\u001b[0m\u001b[0;34m(\u001b[0m\u001b[0mfun\u001b[0m\u001b[0;34m,\u001b[0m \u001b[0mN\u001b[0m\u001b[0;34m)\u001b[0m\u001b[0;34m:\u001b[0m\u001b[0;34m\u001b[0m\u001b[0;34m\u001b[0m\u001b[0m\n\u001b[0;32m----> 2\u001b[0;31m     \u001b[0;32mreturn\u001b[0m \u001b[0mpd\u001b[0m\u001b[0;34m.\u001b[0m\u001b[0mDataFrame\u001b[0m\u001b[0;34m(\u001b[0m\u001b[0;34m[\u001b[0m\u001b[0;34m(\u001b[0m\u001b[0mk\u001b[0m\u001b[0;34m,\u001b[0m \u001b[0;34m(\u001b[0m\u001b[0mfun\u001b[0m\u001b[0;34m(\u001b[0m\u001b[0mk\u001b[0m\u001b[0;34m)\u001b[0m\u001b[0;34m)\u001b[0m\u001b[0;34m)\u001b[0m \u001b[0;32mfor\u001b[0m \u001b[0mk\u001b[0m \u001b[0;32min\u001b[0m \u001b[0mit\u001b[0m\u001b[0;34m.\u001b[0m\u001b[0mproduct\u001b[0m\u001b[0;34m(\u001b[0m\u001b[0;34m[\u001b[0m\u001b[0;36m0\u001b[0m\u001b[0;34m,\u001b[0m\u001b[0;36m1\u001b[0m\u001b[0;34m]\u001b[0m\u001b[0;34m,\u001b[0m \u001b[0mrepeat\u001b[0m\u001b[0;34m=\u001b[0m\u001b[0mN\u001b[0m\u001b[0;34m)\u001b[0m\u001b[0;34m]\u001b[0m\u001b[0;34m)\u001b[0m\u001b[0;34m\u001b[0m\u001b[0;34m\u001b[0m\u001b[0m\n\u001b[0m",
      "\u001b[0;32m~/Devel/python/phial/phial/experiment.py\u001b[0m in \u001b[0;36mnode\u001b[0;34m(inputs)\u001b[0m\n\u001b[1;32m     41\u001b[0m                 \u001b[0mtxt\u001b[0m \u001b[0;34m=\u001b[0m \u001b[0;34m'this function group requires a tuple with {} inputs: {} supplied'\u001b[0m\u001b[0;34m.\u001b[0m\u001b[0;31m\\\u001b[0m\u001b[0;34m\u001b[0m\u001b[0;34m\u001b[0m\u001b[0m\n\u001b[1;32m     42\u001b[0m                 \u001b[0mformat\u001b[0m\u001b[0;34m(\u001b[0m\u001b[0mself\u001b[0m\u001b[0;34m.\u001b[0m\u001b[0mN\u001b[0m\u001b[0;34m,\u001b[0m \u001b[0mlen\u001b[0m\u001b[0;34m(\u001b[0m\u001b[0minputs\u001b[0m\u001b[0;34m)\u001b[0m\u001b[0;34m)\u001b[0m\u001b[0;34m\u001b[0m\u001b[0;34m\u001b[0m\u001b[0m\n\u001b[0;32m---> 43\u001b[0;31m                 \u001b[0;32mraise\u001b[0m \u001b[0mValueError\u001b[0m\u001b[0;34m(\u001b[0m\u001b[0mtxt\u001b[0m\u001b[0;34m)\u001b[0m\u001b[0;34m\u001b[0m\u001b[0;34m\u001b[0m\u001b[0m\n\u001b[0m\u001b[1;32m     44\u001b[0m             \u001b[0;32mreturn\u001b[0m \u001b[0mself\u001b[0m\u001b[0;34m.\u001b[0m\u001b[0mlut\u001b[0m\u001b[0;34m[\u001b[0m\u001b[0msum\u001b[0m\u001b[0;34m(\u001b[0m\u001b[0minputs\u001b[0m\u001b[0;34m)\u001b[0m\u001b[0;34m,\u001b[0m \u001b[0mn\u001b[0m\u001b[0;34m]\u001b[0m\u001b[0;34m\u001b[0m\u001b[0;34m\u001b[0m\u001b[0m\n\u001b[1;32m     45\u001b[0m         \u001b[0;32mreturn\u001b[0m \u001b[0mnode\u001b[0m\u001b[0;34m\u001b[0m\u001b[0;34m\u001b[0m\u001b[0m\n",
      "\u001b[0;31mValueError\u001b[0m: this function group requires a tuple with 2 inputs: 3 supplied"
     ]
    }
   ],
   "source": [
    "# test when incorrect inputs: should get ValueError\n",
    "node = 'A'\n",
    "for k in funcs[node]:\n",
    "    print(test_func(k, 3))"
   ]
  }
 ],
 "metadata": {
  "kernelspec": {
   "display_name": "Python 3",
   "language": "python",
   "name": "python3"
  },
  "language_info": {
   "codemirror_mode": {
    "name": "ipython",
    "version": 3
   },
   "file_extension": ".py",
   "mimetype": "text/x-python",
   "name": "python",
   "nbconvert_exporter": "python",
   "pygments_lexer": "ipython3",
   "version": "3.6.9"
  }
 },
 "nbformat": 4,
 "nbformat_minor": 4
}
