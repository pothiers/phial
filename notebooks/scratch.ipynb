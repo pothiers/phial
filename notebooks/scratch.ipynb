{
 "cells": [
  {
   "cell_type": "markdown",
   "metadata": {},
   "source": [
    "# Scratch pad (temp place to try out things)"
   ]
  },
  {
   "cell_type": "code",
   "execution_count": 1,
   "metadata": {},
   "outputs": [],
   "source": [
    "import networkx as nx\n",
    "from networkx.drawing.nx_pydot import pydot_layout\n",
    "from pprint import pprint\n",
    "import datetime\n",
    "import pyphi\n",
    "\n",
    "import phial.toolbox as tb\n",
    "import phial.node_functions as nf\n",
    "import phial.experiment as ex\n",
    "from phial.utils import tic,toc\n",
    "from phial.experiment import Experiment\n",
    "outdir='~/phial/scratch'"
   ]
  },
  {
   "cell_type": "code",
   "execution_count": null,
   "metadata": {},
   "outputs": [
    {
     "name": "stderr",
     "output_type": "stream",
     "text": [
      "\r",
      "Computing concepts:   0%|          | 0/3 [00:00<?, ?it/s]"
     ]
    },
    {
     "name": "stdout",
     "output_type": "stream",
     "text": [
      "# ExpNum=0 edges=[('A', 'A'), ('A', 'A')]\n",
      "Saved experiment with results to: /home/pothiers/phial/hifi/hifi-1.json.json\n",
      "\n",
      "# NumNodes=1 Info={'timestamp': '2020-05-19 21:06:09.207750', 'duration': 0.0016782060265541077, 'node_count': 1, 'results': {'0': {'phi': 0.0, 'elapsed_seconds': 0.0014609259087592363}}, 'connected_components': 2, 'cycles': 2, 'filename': None, 'uname': uname_result(system='Linux', node='chimp20', release='5.3.0-51-generic', version='#44~18.04.2-Ubuntu SMP Thu Apr 23 14:27:18 UTC 2020', machine='x86_64', processor='x86_64')}\n",
      "# ExpNum=1 edges=[('A', 'A'), ('A', 'B'), ('B', 'B'), ('B', 'A')]\n"
     ]
    },
    {
     "name": "stderr",
     "output_type": "stream",
     "text": [
      "Computing concepts:   0%|          | 0/7 [00:00<?, ?it/s]"
     ]
    },
    {
     "name": "stdout",
     "output_type": "stream",
     "text": [
      "Saved experiment with results to: /home/pothiers/phial/hifi/hifi-2.json.json\n",
      "\n",
      "# NumNodes=2 Info={'timestamp': '2020-05-19 21:06:09.214363', 'duration': 0.04264166788198054, 'node_count': 2, 'results': {'11': {'phi': 0.0, 'elapsed_seconds': 0.04215580807067454}}, 'connected_components': 1, 'cycles': 1, 'filename': None, 'uname': uname_result(system='Linux', node='chimp20', release='5.3.0-51-generic', version='#44~18.04.2-Ubuntu SMP Thu Apr 23 14:27:18 UTC 2020', machine='x86_64', processor='x86_64')}\n",
      "# ExpNum=2 edges=[('A', 'A'), ('A', 'B'), ('B', 'B'), ('B', 'C'), ('C', 'C'), ('C', 'A')]\n"
     ]
    },
    {
     "name": "stderr",
     "output_type": "stream",
     "text": [
      "Computing concepts:   0%|          | 0/15 [00:00<?, ?it/s]"
     ]
    },
    {
     "name": "stdout",
     "output_type": "stream",
     "text": [
      "Saved experiment with results to: /home/pothiers/phial/hifi/hifi-3.json.json\n",
      "\n",
      "# NumNodes=3 Info={'timestamp': '2020-05-19 21:06:09.264268', 'duration': 0.10325332381762564, 'node_count': 3, 'results': {'101': {'phi': 1.249999, 'elapsed_seconds': 0.10247961012646556}}, 'connected_components': 2, 'cycles': 2, 'filename': None, 'uname': uname_result(system='Linux', node='chimp20', release='5.3.0-51-generic', version='#44~18.04.2-Ubuntu SMP Thu Apr 23 14:27:18 UTC 2020', machine='x86_64', processor='x86_64')}\n",
      "# ExpNum=3 edges=[('A', 'A'), ('A', 'B'), ('B', 'B'), ('B', 'C'), ('C', 'C'), ('C', 'D'), ('D', 'D'), ('D', 'A')]\n"
     ]
    },
    {
     "name": "stderr",
     "output_type": "stream",
     "text": [
      "Computing concepts:   0%|          | 0/31 [00:00<?, ?it/s]       "
     ]
    },
    {
     "name": "stdout",
     "output_type": "stream",
     "text": [
      "Saved experiment with results to: /home/pothiers/phial/hifi/hifi-4.json.json\n",
      "\n",
      "# NumNodes=4 Info={'timestamp': '2020-05-19 21:06:09.379470', 'duration': 0.24727811780758202, 'node_count': 4, 'results': {'1001': {'phi': 4.624999, 'elapsed_seconds': 0.24588681710883975}}, 'connected_components': 1, 'cycles': 1, 'filename': None, 'uname': uname_result(system='Linux', node='chimp20', release='5.3.0-51-generic', version='#44~18.04.2-Ubuntu SMP Thu Apr 23 14:27:18 UTC 2020', machine='x86_64', processor='x86_64')}\n",
      "# ExpNum=4 edges=[('A', 'A'), ('A', 'B'), ('B', 'B'), ('B', 'C'), ('C', 'C'), ('C', 'D'), ('D', 'D'), ('D', 'E'), ('E', 'E'), ('E', 'A')]\n"
     ]
    },
    {
     "name": "stderr",
     "output_type": "stream",
     "text": [
      "Computing concepts:   0%|          | 0/63 [00:00<?, ?it/s]          "
     ]
    },
    {
     "name": "stdout",
     "output_type": "stream",
     "text": [
      "Saved experiment with results to: /home/pothiers/phial/hifi/hifi-5.json.json\n",
      "\n",
      "# NumNodes=5 Info={'timestamp': '2020-05-19 21:06:09.650017', 'duration': 1.196643296862021, 'node_count': 5, 'results': {'10111': {'phi': 10.749999, 'elapsed_seconds': 1.1938479370437562}}, 'connected_components': 2, 'cycles': 2, 'filename': None, 'uname': uname_result(system='Linux', node='chimp20', release='5.3.0-51-generic', version='#44~18.04.2-Ubuntu SMP Thu Apr 23 14:27:18 UTC 2020', machine='x86_64', processor='x86_64')}\n",
      "# ExpNum=5 edges=[('A', 'A'), ('A', 'B'), ('B', 'B'), ('B', 'C'), ('C', 'C'), ('C', 'D'), ('D', 'D'), ('D', 'E'), ('E', 'E'), ('E', 'F'), ('F', 'F'), ('F', 'A')]\n"
     ]
    },
    {
     "name": "stderr",
     "output_type": "stream",
     "text": [
      "Computing concepts:   0%|          | 0/127 [00:00<?, ?it/s]         "
     ]
    },
    {
     "name": "stdout",
     "output_type": "stream",
     "text": [
      "Saved experiment with results to: /home/pothiers/phial/hifi/hifi-6.json.json\n",
      "\n",
      "# NumNodes=6 Info={'timestamp': '2020-05-19 21:06:10.894540', 'duration': 9.10843472997658, 'node_count': 6, 'results': {'011000': {'phi': 20.906248, 'elapsed_seconds': 9.10296872886829}}, 'connected_components': 4, 'cycles': 4, 'filename': None, 'uname': uname_result(system='Linux', node='chimp20', release='5.3.0-51-generic', version='#44~18.04.2-Ubuntu SMP Thu Apr 23 14:27:18 UTC 2020', machine='x86_64', processor='x86_64')}\n",
      "# ExpNum=6 edges=[('A', 'A'), ('A', 'B'), ('B', 'B'), ('B', 'C'), ('C', 'C'), ('C', 'D'), ('D', 'D'), ('D', 'E'), ('E', 'E'), ('E', 'F'), ('F', 'F'), ('F', 'G'), ('G', 'G'), ('G', 'A')]\n"
     ]
    },
    {
     "name": "stderr",
     "output_type": "stream",
     "text": [
      "                                                                     \r"
     ]
    },
    {
     "name": "stdout",
     "output_type": "stream",
     "text": [
      "Saved experiment with results to: /home/pothiers/phial/hifi/hifi-7.json.json\n",
      "\n",
      "# NumNodes=7 Info={'timestamp': '2020-05-19 21:06:20.107352', 'duration': 110.29251815588214, 'node_count': 7, 'results': {'0011110': {'phi': 35.624865, 'elapsed_seconds': 110.28192420909181}}, 'connected_components': 10, 'cycles': 10, 'filename': None, 'uname': uname_result(system='Linux', node='chimp20', release='5.3.0-51-generic', version='#44~18.04.2-Ubuntu SMP Thu Apr 23 14:27:18 UTC 2020', machine='x86_64', processor='x86_64')}\n",
      "# ExpNum=7 edges=[('A', 'A'), ('A', 'B'), ('B', 'B'), ('B', 'C'), ('C', 'C'), ('C', 'D'), ('D', 'D'), ('D', 'E'), ('E', 'E'), ('E', 'F'), ('F', 'F'), ('F', 'G'), ('G', 'G'), ('G', 'H'), ('H', 'H'), ('H', 'A')]\n"
     ]
    },
    {
     "name": "stderr",
     "output_type": "stream",
     "text": [
      "                                                                      \r"
     ]
    },
    {
     "name": "stdout",
     "output_type": "stream",
     "text": [
      "Saved experiment with results to: /home/pothiers/phial/hifi/hifi-8.json.json\n",
      "\n",
      "# NumNodes=8 Info={'timestamp': '2020-05-19 21:08:10.632109', 'duration': 2864.7835836960003, 'node_count': 8, 'results': {'01000001': {'phi': 56.296089, 'elapsed_seconds': 2864.762298458023}}, 'connected_components': 1, 'cycles': 1, 'filename': None, 'uname': uname_result(system='Linux', node='chimp20', release='5.3.0-51-generic', version='#44~18.04.2-Ubuntu SMP Thu Apr 23 14:27:18 UTC 2020', machine='x86_64', processor='x86_64')}\n",
      "# ExpNum=8 edges=[('A', 'A'), ('A', 'B'), ('B', 'B'), ('B', 'C'), ('C', 'C'), ('C', 'D'), ('D', 'D'), ('D', 'E'), ('E', 'E'), ('E', 'F'), ('F', 'F'), ('F', 'G'), ('G', 'G'), ('G', 'H'), ('H', 'H'), ('H', 'I'), ('I', 'I'), ('I', 'A')]\n"
     ]
    },
    {
     "name": "stderr",
     "output_type": "stream",
     "text": [
      "Evaluating Φ cuts:  20%|██        | 104/510 [4:43:13<58:02,  8.58s/it]     "
     ]
    }
   ],
   "source": [
    "ex.hifi(maxNodes=12)"
   ]
  },
  {
   "cell_type": "code",
   "execution_count": null,
   "metadata": {},
   "outputs": [],
   "source": [
    "error('STOP')"
   ]
  },
  {
   "cell_type": "code",
   "execution_count": null,
   "metadata": {},
   "outputs": [],
   "source": [
    "exp = Experiment(\n",
    "    [('A', 'A'), ('A', 'B'),\n",
    "     ('B', 'B'), ('B', 'C'),\n",
    "     ('C', 'C'), ('C', 'D'),\n",
    "     ('D', 'D'), ('D', 'E'),\n",
    "     ('E', 'E'), ('E', 'F'),\n",
    "     ('F', 'F'), ('F', 'A'),\n",
    "    ],\n",
    "    default_func=nf.XOR_func,\n",
    "    saveDir=outdir,\n",
    "    title='hi-fi 6 node',  \n",
    "    comment='Simplified from Larissas 2015 paper https://www.mdpi.com/1099-4300/17/8/5472',\n",
    ")\n",
    "## %time exp.run(plot=True)  # max-phi=20.9, elapsed=873 sec (14:30)\n",
    "print(datetime.datetime.now().isoformat(timespec='seconds'))"
   ]
  },
  {
   "cell_type": "code",
   "execution_count": null,
   "metadata": {},
   "outputs": [],
   "source": [
    "from IPython.display import Image\n",
    "net.gvgraph('hifi-6.png')\n",
    "Image(filename='hifi-6.png')"
   ]
  },
  {
   "cell_type": "markdown",
   "metadata": {},
   "source": [
    "### Does this increase phi over 6 node case?\n",
    "How does it effect time?\n",
    "Can up front analysis reduce time?"
   ]
  },
  {
   "cell_type": "code",
   "execution_count": null,
   "metadata": {},
   "outputs": [],
   "source": [
    "exp = Experiment(\n",
    "    [('A', 'A'), ('A', 'B'),\n",
    "     ('B', 'B'), ('B', 'C'),\n",
    "     ('C', 'C'), ('C', 'D'),\n",
    "     ('D', 'D'), ('D', 'E'),\n",
    "     ('E', 'E'), ('E', 'F'),\n",
    "     ('F', 'F'), ('F', 'G'),\n",
    "     ('G', 'G'), ('G', 'A')\n",
    "    ],\n",
    "    default_func=nf.XOR_func,\n",
    "    saveDir=outdir,\n",
    "    title='hi-fi 7 node',  \n",
    "    comment='Simplified from Larissas 2015 paper https://www.mdpi.com/1099-4300/17/8/5472',\n",
    ")\n",
    "%time exp.run(plot=True) # phi=35, elapsed=7267 (2hrs)"
   ]
  },
  {
   "cell_type": "code",
   "execution_count": null,
   "metadata": {
    "scrolled": false
   },
   "outputs": [],
   "source": [
    "exp.info()"
   ]
  },
  {
   "cell_type": "code",
   "execution_count": null,
   "metadata": {},
   "outputs": [],
   "source": [
    "exp.save('/home/pothiers/phial/scratch/hi-fi-7node.json')"
   ]
  },
  {
   "cell_type": "code",
   "execution_count": null,
   "metadata": {},
   "outputs": [],
   "source": [
    "from IPython.display import Image\n",
    "exp.net.gvgraph('hifi-7.png')\n",
    "Image(filename='hifi-7.png')"
   ]
  },
  {
   "cell_type": "code",
   "execution_count": null,
   "metadata": {},
   "outputs": [],
   "source": [
    "exp = Experiment(\n",
    "    [('A', 'A'), ('A', 'B'),\n",
    "     ('B', 'B'), ('B', 'C'),\n",
    "     ('C', 'C'), ('C', 'D'),\n",
    "     ('D', 'D'), ('D', 'E'),\n",
    "     ('E', 'E'), ('E', 'F'),\n",
    "     ('F', 'F'), ('F', 'G'),\n",
    "     ('G', 'G'), ('G', 'H'),\n",
    "     ('H', 'H'), ('H', 'A')\n",
    "    ],\n",
    "    default_func=nf.XOR_func,\n",
    "    saveDir=outdir,\n",
    "    title='hi-fi 8 node',  \n",
    "    comment='Simplified from Larissas 2015 paper https://www.mdpi.com/1099-4300/17/8/5472',\n",
    ")\n",
    "%time exp.run(plot=True)  # phi=56, secs=3000/state"
   ]
  },
  {
   "cell_type": "code",
   "execution_count": null,
   "metadata": {},
   "outputs": [],
   "source": [
    "exp.info()"
   ]
  },
  {
   "cell_type": "code",
   "execution_count": null,
   "metadata": {},
   "outputs": [],
   "source": []
  }
 ],
 "metadata": {
  "kernelspec": {
   "display_name": "Python 3",
   "language": "python",
   "name": "python3"
  },
  "language_info": {
   "codemirror_mode": {
    "name": "ipython",
    "version": 3
   },
   "file_extension": ".py",
   "mimetype": "text/x-python",
   "name": "python",
   "nbconvert_exporter": "python",
   "pygments_lexer": "ipython3",
   "version": "3.6.9"
  }
 },
 "nbformat": 4,
 "nbformat_minor": 4
}
